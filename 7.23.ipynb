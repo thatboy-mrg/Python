{
 "cells": [
  {
   "cell_type": "markdown",
   "metadata": {},
   "source": [
    "# 对象和类\n",
    "- 一个学生，一张桌子，一个圆都是对象\n",
    "- 对象是类的一个实例，你可以创建多个对象，创建类的一个实例过程被称为实例化，\n",
    "- 在Python中对象就是实例，而实例就是对象"
   ]
  },
  {
   "cell_type": "markdown",
   "metadata": {},
   "source": [
    "## 定义类\n",
    "class ClassName:\n",
    "\n",
    "    do something\n",
    "    \n",
    "- class 类的表示与def 一样\n",
    "- 类名最好使用驼峰式\n",
    "- 在Python2中类是需要继承基类object的，在Python中默认继承，可写可不写\n",
    "- 可以将普通代码理解为皮肤，而函数可以理解为内衣，那么类可以理解为外套"
   ]
  },
  {
   "cell_type": "code",
   "execution_count": 34,
   "metadata": {},
   "outputs": [],
   "source": [
    "# 类必须初始化,是用self,初始化自身.\n",
    "# 类里面所有的函数中的第一个变量不再是参数,而是一个印记.\n",
    "# 在类中,如果有参数需要多次使用,那么就可以将其设置为共享参数\n",
    "class Joker:\n",
    "    def __init__(self,num1,num2):\n",
    "        print('我初始化了')\n",
    "        # 参数共享\n",
    "        self.num1 = num1\n",
    "        self.num2 = num2\n",
    "        print(self.num1,self.num2)\n",
    "    def SUM(self,name):\n",
    "        print(name)\n",
    "        return self.num1 + self.num2\n",
    "    def cheng(self):\n",
    "        return self.num1 * self.num2"
   ]
  },
  {
   "cell_type": "code",
   "execution_count": 35,
   "metadata": {},
   "outputs": [
    {
     "name": "stdout",
     "output_type": "stream",
     "text": [
      "我初始化了\n",
      "1 2\n"
     ]
    }
   ],
   "source": [
    "huwang = Joker(num1=1,num2=2) # () 代表直接走初始化函数"
   ]
  },
  {
   "cell_type": "code",
   "execution_count": 36,
   "metadata": {},
   "outputs": [
    {
     "name": "stdout",
     "output_type": "stream",
     "text": [
      "JJJ\n"
     ]
    },
    {
     "data": {
      "text/plain": [
       "3"
      ]
     },
     "execution_count": 36,
     "metadata": {},
     "output_type": "execute_result"
    }
   ],
   "source": [
    "huwang.SUM(name='JJJ')"
   ]
  },
  {
   "cell_type": "code",
   "execution_count": 33,
   "metadata": {},
   "outputs": [
    {
     "data": {
      "text/plain": [
       "2"
      ]
     },
     "execution_count": 33,
     "metadata": {},
     "output_type": "execute_result"
    }
   ],
   "source": [
    "huwang.cheng()"
   ]
  },
  {
   "cell_type": "markdown",
   "metadata": {},
   "source": [
    "## 定义一个不含初始化__init__的简单类\n",
    "class ClassName:\n",
    "\n",
    "    joker = “Home”\n",
    "    \n",
    "    def func():\n",
    "        print('Worker')\n",
    "    \n",
    "- 尽量少使用"
   ]
  },
  {
   "cell_type": "markdown",
   "metadata": {},
   "source": [
    "\n",
    "\n",
    "## 定义一个标准类\n",
    "- __init__ 代表初始化，可以初始化任何动作\n",
    "- 此时类调用要使用()，其中（）可以理解为开始初始化\n",
    "- 初始化内的元素，类中其他的函数可以共享\n",
    "![](../Photo/85.png)"
   ]
  },
  {
   "cell_type": "markdown",
   "metadata": {},
   "source": [
    "- Circle 和 className_ 的第一个区别有 __init__ 这个函数\n",
    "- 。。。。   第二个区别，类中的每一个函数都有self的这个“参数”"
   ]
  },
  {
   "cell_type": "markdown",
   "metadata": {},
   "source": [
    "## 何为self？\n",
    "- self 是指向对象本身的参数\n",
    "- self 只是一个命名规则，其实可以改变的，但是我们约定俗成的是self，也便于理解\n",
    "- 使用了self就可以访问类中定义的成员\n",
    "<img src=\"../Photo/86.png\"></img>"
   ]
  },
  {
   "cell_type": "markdown",
   "metadata": {},
   "source": [
    "## 使用类 Cirlcle"
   ]
  },
  {
   "cell_type": "markdown",
   "metadata": {},
   "source": [
    "## 类的传参\n",
    "- class ClassName:\n",
    "    \n",
    "        def __init__(self, para1,para2...)：\n",
    "            \n",
    "            self.para1 = para1\n",
    "            \n",
    "            self.para2 = para2"
   ]
  },
  {
   "cell_type": "markdown",
   "metadata": {},
   "source": [
    "## EP:\n",
    "- A：定义一个类，类中含有两个功能：\n",
    "    - 1、产生3个随机数，获取最大值\n",
    "    - 2、产生3个随机数，获取最小值\n",
    "- B：定义一个类，（类中函数的嵌套使用）\n",
    "    - 1、第一个函数的功能为：输入一个数字\n",
    "    - 2、第二个函数的功能为：使用第一个函数中得到的数字进行平方处理\n",
    "    - 3、第三个函数的功能为：得到平方处理后的数字 - 原来输入的数字，并打印结果"
   ]
  },
  {
   "cell_type": "code",
   "execution_count": 83,
   "metadata": {},
   "outputs": [],
   "source": [
    "class Joker2:\n",
    "    \"\"\"\n",
    "    Implement Login Class.\n",
    "    \"\"\"\n",
    "    def __init__(self):\n",
    "        \"\"\"\n",
    "        Initialization class\n",
    "        Arguments:\n",
    "        ---------\n",
    "            name: xxx\n",
    "            None.\n",
    "        Returns:\n",
    "        --------\n",
    "            None.\n",
    "        \"\"\"\n",
    "        self.account = '123'\n",
    "        self.password = '123'\n",
    "    def Account(self):\n",
    "        \"\"\"\n",
    "        Input Account value\n",
    "        Arguments:\n",
    "        ---------\n",
    "            None.\n",
    "        Returns:\n",
    "        --------\n",
    "            None.\n",
    "        \"\"\"\n",
    "        self.acc = input('请输入账号:>>')\n",
    "    def Password(self):\n",
    "        \"\"\"\n",
    "        Input Password value\n",
    "        Arguments:\n",
    "        ---------\n",
    "            None.\n",
    "        Returns:\n",
    "        --------\n",
    "            None.\n",
    "        \"\"\"\n",
    "        self.passwor = input('请输入密码:>>')\n",
    "    def Check(self):\n",
    "        \"\"\"\n",
    "        Check account and password\n",
    "        Note:\n",
    "        ----\n",
    "            we need \"and\" connect.\n",
    "            if account and password is right, then login OK.\n",
    "            else: running Veriy func.\n",
    "        \"\"\"\n",
    "        if self.acc == self.account and self.passwor == self.password:\n",
    "            print('Success')\n",
    "        else:\n",
    "            # running Verify !\n",
    "            self.Verify()\n",
    "    def Verify(self):\n",
    "        \"\"\"\n",
    "        Verify ....\n",
    "        \"\"\"\n",
    "        Verify_Var = 123\n",
    "        print('验证码是:',Verify_Var)\n",
    "        while 1:\n",
    "            User_Verify = eval(input('请输入验证码:>>'))\n",
    "            if User_Verify == Verify_Var:\n",
    "                print('Failed')\n",
    "                break\n",
    "    def Start(self):\n",
    "        \"\"\"\n",
    "        Start definelogistics.\n",
    "        \"\"\"\n",
    "        self.Account()\n",
    "        self.Password()\n",
    "        self.Check()"
   ]
  },
  {
   "cell_type": "code",
   "execution_count": 84,
   "metadata": {},
   "outputs": [],
   "source": [
    "# 创建类的一个实例\n",
    "a = Joker2()"
   ]
  },
  {
   "cell_type": "code",
   "execution_count": 82,
   "metadata": {},
   "outputs": [
    {
     "name": "stdout",
     "output_type": "stream",
     "text": [
      "请输入账号:>>123\n",
      "请输入密码:>>1\n",
      "验证码是: 123\n",
      "请输入验证码:>>1\n",
      "请输入验证码:>>1\n",
      "请输入验证码:>>123\n",
      "Failed\n"
     ]
    }
   ],
   "source": [
    "a.Start()"
   ]
  },
  {
   "cell_type": "markdown",
   "metadata": {},
   "source": [
    "## 类的继承\n",
    "- 类的单继承\n",
    "- 类的多继承\n",
    "- 继承标识\n",
    ">  class SonClass(FatherClass):\n",
    "            \n",
    "            def __init__(self):\n",
    "            \n",
    "                FatherClass.__init__(self)"
   ]
  },
  {
   "cell_type": "code",
   "execution_count": 110,
   "metadata": {
    "scrolled": true
   },
   "outputs": [
    {
     "data": {
      "text/plain": [
       "1000"
      ]
     },
     "execution_count": 110,
     "metadata": {},
     "output_type": "execute_result"
    }
   ],
   "source": [
    "a = 100\n",
    "a = 1000\n",
    "a"
   ]
  },
  {
   "cell_type": "markdown",
   "metadata": {},
   "source": [
    "私有变量,不可继承,不可在外部调用,但是可以在内部使用."
   ]
  },
  {
   "cell_type": "code",
   "execution_count": 32,
   "metadata": {},
   "outputs": [],
   "source": [
    "class A:\n",
    "    def __init__(self):\n",
    "        self.__a = 'a'\n",
    "    def a_(self):\n",
    "        print('aa')\n",
    "        print(self.__a)"
   ]
  },
  {
   "cell_type": "code",
   "execution_count": 35,
   "metadata": {},
   "outputs": [
    {
     "name": "stdout",
     "output_type": "stream",
     "text": [
      "hahah\n"
     ]
    }
   ],
   "source": [
    "def b():\n",
    "    a()\n",
    "    \n",
    "def a():\n",
    "    print('hahah')\n",
    "b()"
   ]
  },
  {
   "cell_type": "markdown",
   "metadata": {},
   "source": [
    "# _ _ -- + = / \\ { } [] ! ~ !@ # $ % ^ & * ( ) < > ……"
   ]
  },
  {
   "cell_type": "markdown",
   "metadata": {},
   "source": [
    "## 私有数据域(私有变量，或者私有函数)\n",
    "- 在Python中 变量名或者函数名使用双下划线代表私有  \\__Joker,   def \\__Joker():\n",
    "- 私有数据域不可继承\n",
    "- 私有数据域强制继承   \\__dir__()"
   ]
  },
  {
   "cell_type": "markdown",
   "metadata": {},
   "source": [
    "![](../Photo/87.png)"
   ]
  },
  {
   "cell_type": "markdown",
   "metadata": {},
   "source": [
    "## EP:\n",
    "![](../Photo/88.png)\n",
    "![](../Photo/89.png)\n",
    "![](../Photo/90.png)\n"
   ]
  },
  {
   "cell_type": "markdown",
   "metadata": {},
   "source": [
    "## 类的其他\n",
    "- 类的封装\n",
    "    - 实际上就是将一类功能放在一起，方便未来进行管理\n",
    "- 类的继承（上面已经讲过）\n",
    "- 类的多态\n",
    "    - 包括装饰器：将放在以后处理高级类中教\n",
    "    - 装饰器的好处：当许多类中的函数需要使用同一个功能的时候，那么使用装饰器就会方便许多\n",
    "    - 装饰器是有固定的写法\n",
    "        - 其包括普通装饰器与带参装饰器"
   ]
  },
  {
   "cell_type": "markdown",
   "metadata": {},
   "source": [
    "# Homewor\n",
    "## UML类图可以不用画\n",
    "## UML 实际上就是一个思维图\n",
    "- 1\n",
    "![](../Photo/91.png)"
   ]
  },
  {
   "cell_type": "code",
   "execution_count": 6,
   "metadata": {},
   "outputs": [
    {
     "name": "stdout",
     "output_type": "stream",
     "text": [
      "请输入矩形1的长：4\n",
      "请输入矩形1的宽：40\n",
      "请输入矩形2的长：3.5\n",
      "请输入矩形2的宽：35.7\n",
      "宽：4.000000 高：40.000000 的矩形面积为：160.000000 周长为 88.000000\n",
      "宽：3.500000 高：35.700000 的矩形面积为：124.950000 周长为 78.400000\n"
     ]
    }
   ],
   "source": [
    "class Rectangle():\n",
    "    def __init__(self,width,height):\n",
    "        self.width=width\n",
    "        self.height=height\n",
    "    def getArea(self):\n",
    "        area=self.width*self.height\n",
    "        return area\n",
    "    def getPerimeter(self):\n",
    "        per=(self.width+self.height)*2\n",
    "        return per\n",
    "if __name__ == '__main__':\n",
    "    w1=float(input('请输入矩形1的长：'))\n",
    "    h1=float(input('请输入矩形1的宽：'))\n",
    "    rec=Rectangle(w1,h1)\n",
    "    w2=float(input('请输入矩形2的长：'))\n",
    "    h2=float(input('请输入矩形2的宽：'))\n",
    "    rec2=Rectangle(w2,h2)\n",
    "    print('宽：%f 高：%f 的矩形面积为：%f 周长为 %f'%(w1,h1,rec.getArea(),rec.getPerimeter()))\n",
    "    print('宽：%f 高：%f 的矩形面积为：%f 周长为 %f'%(w2,h2,rec2.getArea(),rec2.getPerimeter()))"
   ]
  },
  {
   "cell_type": "markdown",
   "metadata": {},
   "source": [
    "- 2\n",
    "![](../Photo/92.png)"
   ]
  },
  {
   "cell_type": "code",
   "execution_count": 7,
   "metadata": {},
   "outputs": [
    {
     "name": "stdout",
     "output_type": "stream",
     "text": [
      "请输入你的id：1122\n",
      "请输入账户金额：20000\n",
      "年利率为：4.5\n",
      "取:2500\n",
      "存:3000\n",
      "你的id：1122 剩余金额：20500.00 月利率：0.375 月利息：76.88 \n"
     ]
    }
   ],
   "source": [
    "class Account():\n",
    "    def __init__(self,id,balance,annuallnterestRate):\n",
    "        self.id = id\n",
    "        self.__balance = balance\n",
    "        self.__annuallnterestRate=annuallnterestRate\n",
    "    def getid(self):\n",
    "        return self.id\n",
    "    def getbalance(self):\n",
    "        return self.__balance\n",
    "    def get__annuallnterestRate(self):\n",
    "        return self.__annuallnterestRate\n",
    "    def getMonthlyInterestRate(self):\n",
    "        return self.__annuallnterestRate/12\n",
    "    def getMonthlyInterest(self):\n",
    "        return self.__balance*(self.__annuallnterestRate/12)\n",
    "    def withdraw(self,number):\n",
    "        self.__balance=self.__balance-number\n",
    "    def deposit(self,number):\n",
    "        self.__balance=self.__balance+number\n",
    "if __name__ == '__main__':\n",
    "    id=int(input('请输入你的id：'))\n",
    "    balance=float(input('请输入账户金额：'))\n",
    "    ann=float(input('年利率为：'))\n",
    "    acc=Account(id,balance,ann/100)\n",
    "    qu=float(input('取:'))\n",
    "    acc.withdraw(qu)\n",
    "    cun=float(input('存:'))\n",
    "    acc.deposit(cun)\n",
    "    print('你的id：%d 剩余金额：%.2f 月利率：%.3f 月利息：%.2f '%(acc.getid(),acc.getbalance(),acc.getMonthlyInterestRate()*100,acc.getMonthlyInterest()))"
   ]
  },
  {
   "cell_type": "markdown",
   "metadata": {},
   "source": [
    "- 3\n",
    "![](../Photo/93.png)"
   ]
  },
  {
   "cell_type": "code",
   "execution_count": 9,
   "metadata": {},
   "outputs": [
    {
     "name": "stdout",
     "output_type": "stream",
     "text": [
      "风扇的速度为（1：slow，2：medium，3：fast）：3\n",
      "风扇的半径为：10\n",
      "风扇的颜色是：yellow\n",
      "风扇是否打开(True or False):true\n",
      "风扇的速度为（1：slow，2：medium，3：fast）：2\n",
      "风扇的半径为：5.5\n",
      "风扇的颜色是：blue\n",
      "风扇是否打开(True or False):False\n",
      "1号风扇的速度(speed)为： 3 颜色是(color): yellow 风扇的半径为(radius)： 10.0 风扇是： true\n",
      "2号风扇的速度(speed)为： 2 颜色是(color): blue 风扇的半径为(radius)： 5.5 风扇是： False\n"
     ]
    }
   ],
   "source": [
    "class Fan():\n",
    "    def __init__(self,speed,on,radius,color):\n",
    "        self.slow=1\n",
    "        self.medium=2\n",
    "        self.fast=3\n",
    "        self.__speed=speed\n",
    "        self.__on=on\n",
    "        self.__radius=radius\n",
    "        self.__color=color\n",
    "    def getspeed(self):\n",
    "        return self.__speed\n",
    "    def geton(self):\n",
    "        return self.__on\n",
    "    def getradius(self):\n",
    "        return self.__radius\n",
    "    def getcolor(self):\n",
    "        return self.__color\n",
    "if __name__ == '__main__':\n",
    "    speed=int(input('风扇的速度为（1：slow，2：medium，3：fast）：'))\n",
    "    radius=float(input('风扇的半径为：'))\n",
    "    color=input('风扇的颜色是：')\n",
    "    on=input('风扇是否打开(True or False):')\n",
    "    fan=Fan(speed,on,radius,color)\n",
    "    speed=int(input('风扇的速度为（1：slow，2：medium，3：fast）：'))\n",
    "    radius=float(input('风扇的半径为：'))\n",
    "    color=input('风扇的颜色是：')\n",
    "    on=input('风扇是否打开(True or False):')\n",
    "    fan2=Fan(speed,on,radius,color)\n",
    "    print('1号风扇的速度(speed)为：',fan.getspeed(),'颜色是(color):',fan.getcolor(),'风扇的半径为(radius)：',fan.getradius(),'风扇是：',fan.geton())\n",
    "    print('2号风扇的速度(speed)为：',fan2.getspeed(),'颜色是(color):',fan2.getcolor(),'风扇的半径为(radius)：',fan2.getradius(),'风扇是：',fan2.geton())"
   ]
  },
  {
   "cell_type": "markdown",
   "metadata": {},
   "source": [
    "- 4\n",
    "![](../Photo/94.png)\n",
    "![](../Photo/95.png)"
   ]
  },
  {
   "cell_type": "code",
   "execution_count": 5,
   "metadata": {},
   "outputs": [
    {
     "name": "stdout",
     "output_type": "stream",
     "text": [
      "周长：3.00 面积 0.43\n",
      "周长：24.00 面积 41.57\n",
      "周长：40.00 面积 123.11\n"
     ]
    }
   ],
   "source": [
    "import math\n",
    "class RegularPolygon():\n",
    "    def __init__(self,n,side,x,y):\n",
    "        self.__n=float(n)\n",
    "        self.__side=float(side)\n",
    "        self.__x=float(x)\n",
    "        self.__y=float(y)\n",
    "    def getn(self):\n",
    "        return self.__n\n",
    "    def getside(self):\n",
    "        return self.__side\n",
    "    def getx(self):\n",
    "        return self.__x\n",
    "    def gety(self):\n",
    "        return self.__y\n",
    "    def getPerimeter(self):\n",
    "        return self.__side*self.__n\n",
    "    def getArea(self):\n",
    "        return (self.__n*self.__side*self.__side)/(4*math.tan(math.pi/self.__n))\n",
    "if __name__ == '__main__':\n",
    "    reg=RegularPolygon(3,1,0,0)\n",
    "    print('周长：%.2f 面积 %.2f'%(reg.getPerimeter(),reg.getArea()))\n",
    "    reg2=RegularPolygon(6,4,0,0)\n",
    "    print('周长：%.2f 面积 %.2f'%(reg2.getPerimeter(),reg2.getArea()))\n",
    "    reg3=RegularPolygon(10,4,5.6,7.8)\n",
    "    print('周长：%.2f 面积 %.2f'%(reg3.getPerimeter(),reg3.getArea()))"
   ]
  },
  {
   "cell_type": "markdown",
   "metadata": {},
   "source": [
    "- 5\n",
    "![](../Photo/96.png)"
   ]
  },
  {
   "cell_type": "code",
   "execution_count": 11,
   "metadata": {},
   "outputs": [
    {
     "name": "stdout",
     "output_type": "stream",
     "text": [
      "请输入：a,b,c,d,e,f的值：>>1,2,3,2,5,8\n",
      "此方程无解！\n"
     ]
    }
   ],
   "source": [
    "class LineeraEquation():\n",
    "    def __init__(self,a,b,c,d,e,f):\n",
    "        self.__a=a\n",
    "        self.__b=b\n",
    "        self.__c=c\n",
    "        self.__d=d\n",
    "        self.__e=e\n",
    "        self.__f=f\n",
    "    def geta():\n",
    "        return a\n",
    "    def getb():\n",
    "        return b\n",
    "    def getc():\n",
    "        return c\n",
    "    def getd():\n",
    "        return d\n",
    "    def gete():\n",
    "        return e\n",
    "    def getf():\n",
    "        return f\n",
    "    \n",
    "    def isSolvable(self):\n",
    "        if self.a*self.d-self.b*self.c!=0:\n",
    "            return True\n",
    "        else:\n",
    "            return False\n",
    "    \n",
    "    def getX(self):\n",
    "        x = (self.e*self.d-self.b*self.f)/(self.a*self.d-self.b*self.c)\n",
    "        return x\n",
    "    \n",
    "    def getY(self):\n",
    "        y = (self.a*self.f-self.e*self.c)/(self.a*self.d-self.b*self.c)\n",
    "        return y\n",
    "    \n",
    "if __name__ == \"__main__\":\n",
    "    a,b,c,d,e,f=eval(input('请输入：a,b,c,d,e,f的值：>>'))\n",
    "    li=LineeraEquation(a,b,c,d,e,f)\n",
    "    if li.isSolvable==True:\n",
    "        print(li.getX(),li.getY())\n",
    "    else:\n",
    "        print('此方程无解！')\n"
   ]
  },
  {
   "cell_type": "markdown",
   "metadata": {},
   "source": [
    "- 6\n",
    "![](../Photo/97.png)"
   ]
  },
  {
   "cell_type": "code",
   "execution_count": 2,
   "metadata": {},
   "outputs": [
    {
     "name": "stdout",
     "output_type": "stream",
     "text": [
      "Enter the endpoints of the first line swgment:2,2,0,0\n",
      "Enter the endpoints of the first line swgment:0,2,2,0\n",
      "The intersecting point is :(0.000000,0.000000)\n"
     ]
    }
   ],
   "source": [
    "class LineeraEquation():\n",
    "    def __init__(self,x1,y1,x2,y2):\n",
    "        self.x1=x1\n",
    "        self.x2=x2\n",
    "        self.y1=y1\n",
    "        self.y2=y2\n",
    "        self.k=0\n",
    "        self.b=0\n",
    "    def getk(self):\n",
    "        self.k=(self.y2-self.y1)/(self.x2-self.x1)\n",
    "        return self.k\n",
    "    def getb(self):\n",
    "        self.b=self.y2-self.x2*self.k\n",
    "        return self.b\n",
    "x1,y1,x2,y2=eval(input(\"Enter the endpoints of the first line swgment:\"))\n",
    "lin1=LineeraEquation(x1,y1,x2,y2)\n",
    "x3,y3,x4,y4=eval(input(\"Enter the endpoints of the first line swgment:\"))\n",
    "lin2=LineeraEquation(x3,y3,x4,y4)\n",
    "x=(lin2.getb()-lin1.getb())/(lin1.getk()-lin2.getk())\n",
    "y=lin1.getk()*x+lin1.getb()\n",
    "print('The intersecting point is :(%f,%f)'%(x,y))"
   ]
  },
  {
   "cell_type": "markdown",
   "metadata": {},
   "source": [
    "- 7\n",
    "![](../Photo/98.png)"
   ]
  },
  {
   "cell_type": "code",
   "execution_count": null,
   "metadata": {},
   "outputs": [],
   "source": [
    "class LineeraEquation():\n",
    "    def __init__(self,a,b,c,d,e,f):\n",
    "        self.__a=a\n",
    "        self.__b=b\n",
    "        self.__c=c\n",
    "        self.__d=d\n",
    "        self.__e=e\n",
    "        self.__f=f\n",
    "    def geta():\n",
    "        return a\n",
    "    def getb():\n",
    "        return b\n",
    "    def getc():\n",
    "        return c\n",
    "    def getd():\n",
    "        return d\n",
    "    def gete():\n",
    "        return e\n",
    "    def getf():\n",
    "        return f\n",
    "    \n",
    "    def isSolvable(self):\n",
    "        if self.a*self.d-self.b*self.c!=0:\n",
    "            return True\n",
    "        else:\n",
    "            return False\n",
    "    \n",
    "    def getX(self):\n",
    "        x = (self.e*self.d-self.b*self.f)/(self.a*self.d-self.b*self.c)\n",
    "        return x\n",
    "    \n",
    "    def getY(self):\n",
    "        y = (self.a*self.f-self.e*self.c)/(self.a*self.d-self.b*self.c)\n",
    "        return y\n",
    "    \n",
    "if __name__ == \"__main__\":\n",
    "    a,b,c,d,e,f=eval(input('请输入：a,b,c,d,e,f的值：>>'))\n",
    "    li=LineeraEquation(a,b,c,d,e,f)\n",
    "    if li.isSolvable==True:\n",
    "        print(li.getX(),li.getY())\n",
    "    else:\n",
    "        print('此方程无解！')"
   ]
  },
  {
   "cell_type": "code",
   "execution_count": 1,
   "metadata": {},
   "outputs": [
    {
     "name": "stdout",
     "output_type": "stream",
     "text": [
      "ok\n"
     ]
    }
   ],
   "source": [
    "#爬取10页ip地址\n",
    "import requests\n",
    "import re\n",
    "import pymysql\n",
    "# 打开数据库连接\n",
    "db = pymysql.connect(\"localhost\",\"root\",\"123root\",\"test\" )\n",
    "# 使用 cursor() 方法创建一个游标对象 cursor\n",
    "cursor = db.cursor()\n",
    "# 使用 execute() 方法执行 SQL\n",
    "for i  in range(1,11):\n",
    "    response=requests.get('http://www.89ip.cn/index_%d.html'%i)\n",
    "    HTML=response.text\n",
    "    compile_ = re.compile(r'(((2(5[0-5]|[0-4]\\d))|[0-1]?\\d{1,2})(\\.((2(5[0-5]|[0-4]\\d))|[0-1]?\\d{1,2})){3})\\D+?([0-9]|[1-9]\\d{1,3}|[1-5]\\d{4}|6[0-4]\\d{4}|65[0-4]\\d{2}|655[0-2]\\d|6553[0-5])\\D+?([\\u4E00-\\u9FA5]+.*?)\\D+?([\\u4E00-\\u9FA5]+.*?)')\n",
    "    res = compile_.findall(HTML)\n",
    "#   for ip_ in res:\n",
    "#      print(ip_[0],ip_[1],ip_[len(ip_)-2],ip_[len(ip_)-1])\n",
    "\n",
    "    for ip_ in res:\n",
    "        cursor.execute(\"insert into 89ip(IP地址,端口,地理位置,运营商) values('%s',%d,'%s','%s')\"%(ip_[0],int(ip_[1]),ip_[len(ip_)-2],ip_[len(ip_)-1]))\n",
    "        # 执行sql语句\n",
    "        db.commit()\n",
    "db.close()\n",
    "print('ok')"
   ]
  }
 ],
 "metadata": {
  "kernelspec": {
   "display_name": "Python 3",
   "language": "python",
   "name": "python3"
  },
  "language_info": {
   "codemirror_mode": {
    "name": "ipython",
    "version": 3
   },
   "file_extension": ".py",
   "mimetype": "text/x-python",
   "name": "python",
   "nbconvert_exporter": "python",
   "pygments_lexer": "ipython3",
   "version": "3.7.3"
  }
 },
 "nbformat": 4,
 "nbformat_minor": 2
}
